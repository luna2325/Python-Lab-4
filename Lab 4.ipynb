{
 "cells": [
  {
   "cell_type": "code",
   "execution_count": 1,
   "id": "254681d5",
   "metadata": {},
   "outputs": [
    {
     "name": "stdout",
     "output_type": "stream",
     "text": [
      "9\n"
     ]
    }
   ],
   "source": [
    "N = ord(\"S\") % 15 + 1\n",
    "print(N)"
   ]
  },
  {
   "cell_type": "code",
   "execution_count": 2,
   "id": "75f15df5",
   "metadata": {},
   "outputs": [],
   "source": [
    "import numpy as np\n",
    "import random \n",
    "import copy\n",
    "import time"
   ]
  },
  {
   "cell_type": "markdown",
   "id": "578c34b1",
   "metadata": {},
   "source": [
    "##### assignment 1"
   ]
  },
  {
   "cell_type": "code",
   "execution_count": 3,
   "id": "9651cd40",
   "metadata": {},
   "outputs": [],
   "source": [
    "# Exercise 1. Enter the number n. Output an array of size nхn, in which the diagonals\n",
    "# are numbers from 1 to n, and other elements are 0"
   ]
  },
  {
   "cell_type": "code",
   "execution_count": 7,
   "id": "b96bc17a",
   "metadata": {},
   "outputs": [
    {
     "name": "stdout",
     "output_type": "stream",
     "text": [
      "enter a number3\n",
      "Read_Time_taken_using numpy: 0.0 sec\n",
      "[[1. 0. 0.]\n",
      " [0. 2. 0.]\n",
      " [0. 0. 3.]]\n",
      "\n",
      "\n",
      "Read_Time_taken_using iterative constructions: 0.0010001659393310547 sec\n",
      "[[1. 0. 0.]\n",
      " [0. 2. 0.]\n",
      " [0. 0. 3.]]\n"
     ]
    }
   ],
   "source": [
    "n = int(input(\"enter a number\"))\n",
    "# using numpy universal functions\n",
    "start_time = time.time()\n",
    "arr = np.eye(n) * np.arange(1, n + 1) \n",
    "end_time = time.time()\n",
    "print(\"Read_Time_taken_using numpy: \" + str(end_time - start_time)+\" sec\")\n",
    "print(arr)\n",
    "\n",
    "# using using iterative constructions (using loops, list comprehensions, etc.).\n",
    "print(\"\\n\")\n",
    "start_time = time.time()\n",
    "arr1 = np.zeros((n,n))\n",
    "for i in range(n):\n",
    "    arr1[i, i] = i+1\n",
    "end_time = time.time()\n",
    "print(\"Read_Time_taken_using iterative constructions: \" + str(end_time - start_time)+\" sec\")\n",
    "print(arr1)"
   ]
  },
  {
   "cell_type": "code",
   "execution_count": 6,
   "id": "936498b7",
   "metadata": {},
   "outputs": [],
   "source": [
    "# Exercise 2. Enter the number n. Arrange 1 and 0 in a checkerboard pattern, starting\n",
    "#  with 0 in a matrix of size nхn, using slicing."
   ]
  },
  {
   "cell_type": "code",
   "execution_count": 3,
   "id": "7fa75416",
   "metadata": {},
   "outputs": [
    {
     "name": "stdout",
     "output_type": "stream",
     "text": [
      "Enter the value of: \n",
      "3\n",
      "Read_Time_taken_using numpy: 0.0 sec\n",
      "[[0 1 0]\n",
      " [1 0 1]\n",
      " [0 1 0]]\n",
      "\n",
      "\n",
      "Read_Time_taken_using iterative constructions: 0.03841352462768555 sec\n",
      "[[0 1 0]\n",
      " [1 0 1]\n",
      " [0 1 0]]\n"
     ]
    }
   ],
   "source": [
    "val1 = int(input(\"Enter the value of: \\n\"))\n",
    "# using numpy universal functions\n",
    "\n",
    "arr = np.ones((val1, val1), dtype=int)\n",
    "start_time = time.time()\n",
    "arr[::2, ::2] = 0\n",
    "arr[1::2, 1::2] = 0\n",
    "end_time = time.time()\n",
    "print(\"Read_Time_taken_using numpy: \" + str(end_time - start_time)+\" sec\")\n",
    "print(arr)\n",
    "print(\"\\n\")\n",
    "# using using iterative constructions (using loops, list comprehensions, etc.).\n",
    "arr1 = np.ones((val1, val1), dtype=int)\n",
    "start_time = time.time()\n",
    "rows = []\n",
    "for i in range(val1):\n",
    "    row = []\n",
    "   \n",
    "    for j in range(val1):\n",
    "        if (i+j) % 2 == 0:\n",
    "            row.append(0)\n",
    "        else:\n",
    "            row.append(1)\n",
    "    rows.append(row)\n",
    "\n",
    "arr1 = np.array(rows)\n",
    "end_time = time.time()\n",
    "print(\"Read_Time_taken_using iterative constructions: \" + str(end_time - start_time)+\" sec\")\n",
    "print(arr)"
   ]
  },
  {
   "cell_type": "code",
   "execution_count": 8,
   "id": "2436a977",
   "metadata": {},
   "outputs": [],
   "source": [
    "# Exercise 4. Enter the numbers n and m. Output an array of size nхm, in which the\n",
    "# first line (line with zero index) are numbers from 0 to m-1, and all other elements\n",
    "# of the matrix are equal to 0."
   ]
  },
  {
   "cell_type": "code",
   "execution_count": 12,
   "id": "9db285bb",
   "metadata": {},
   "outputs": [
    {
     "name": "stdout",
     "output_type": "stream",
     "text": [
      "Enter the value of n: \n",
      "2\n",
      "Enter the value of m: \n",
      "3\n",
      "Read_Time_taken_using numpy: 0.0 sec\n",
      "[[0 1 2]\n",
      " [0 0 0]]\n",
      "\n",
      "\n",
      "Read_Time_taken_using iterative constructions: 0.0 sec\n",
      "[[0 1 2]\n",
      " [0 0 0]]\n"
     ]
    }
   ],
   "source": [
    "n = int(input(\"Enter the value of n: \\n\"))\n",
    "m = int(input(\"Enter the value of m: \\n\"))\n",
    "\n",
    "# using numpy universal functions\n",
    "arr = np.zeros((n, m), dtype=int)\n",
    "start_time = time.time()\n",
    "arr[0] = np.arange(m)\n",
    "end_time = time.time()\n",
    "print(\"Read_Time_taken_using numpy: \" + str(end_time - start_time)+\" sec\")\n",
    "print(arr)\n",
    "\n",
    "print(\"\\n\")\n",
    "# using using iterative constructions (using loops, list comprehensions, etc.).\n",
    "\n",
    "arr1 = arr1 = np.zeros((n, m), dtype=int)\n",
    "start_time = time.time()\n",
    "for j in range(m):\n",
    "    arr1[0][j] = j\n",
    "\n",
    "end_time = time.time()\n",
    "print(\"Read_Time_taken_using iterative constructions: \" + str(end_time - start_time)+\" sec\")\n",
    "print(arr1)\n",
    "\n"
   ]
  },
  {
   "cell_type": "code",
   "execution_count": 5,
   "id": "3b5619ef",
   "metadata": {},
   "outputs": [],
   "source": [
    "# Exercise 7. An array is entered from the keyboard. Replace all zeros with -1."
   ]
  },
  {
   "cell_type": "code",
   "execution_count": 16,
   "id": "a9bf73c6",
   "metadata": {},
   "outputs": [
    {
     "name": "stdout",
     "output_type": "stream",
     "text": [
      "enter number of elements\n",
      "4\n",
      "enter numbers\n",
      "Enter the array: 0 0 0 0\n",
      "Read_Time_taken_using numpy: 0.0 sec\n",
      "[-1 -1 -1 -1]\n",
      "\n",
      "\n",
      "Enter the array: 0 0 0 0\n",
      "Read_Time_taken_using iterative constructions: 0.0 sec\n",
      "[-1 -1 -1 -1]\n"
     ]
    }
   ],
   "source": [
    "a = int(input(\"enter number of elements\\n\"))\n",
    "print(\"enter numbers\")\n",
    "\n",
    "# using numpy universal functions\n",
    "arr = np.array(list(map(int, input(\"Enter the array: \").split())))\n",
    "start_time = time.time()\n",
    "arr[arr == 0] = -1\n",
    "end_time = time.time()\n",
    "print(\"Read_Time_taken_using numpy: \" + str(end_time - start_time)+\" sec\")\n",
    "print(arr)\n",
    "print(\"\\n\")\n",
    "# using using iterative constructions (using loops, list comprehensions, etc.).\n",
    "arr1 = np.array(list(map(int, input(\"Enter the array: \").split())))\n",
    "start_time = time.time()\n",
    "for i in range(a):\n",
    "    if arr1[i] == 0:\n",
    "        arr1[i] = -1\n",
    "end_time = time.time()\n",
    "print(\"Read_Time_taken_using iterative constructions: \" + str(end_time - start_time)+\" sec\")\n",
    "print(arr1)"
   ]
  },
  {
   "cell_type": "code",
   "execution_count": null,
   "id": "63b8d9b8",
   "metadata": {},
   "outputs": [],
   "source": [
    "# Exercise 8. An array is entered from the keyboard. Count the number of zero and\n",
    "# non-zero elements in it."
   ]
  },
  {
   "cell_type": "code",
   "execution_count": 17,
   "id": "1f9d0519",
   "metadata": {},
   "outputs": [
    {
     "name": "stdout",
     "output_type": "stream",
     "text": [
      "enter number of elements\n",
      "4\n",
      "Enter the array: 1 2 0 3\n",
      "Zeros: 1\n",
      "Non-zeros: 3\n",
      "Read_Time_taken_using numpy: 0.0 sec\n",
      "\n",
      "\n",
      "Enter the array: 4 2 0 0\n",
      "Zeros: 2\n",
      "Non-zeros: 2\n",
      "Read_Time_taken_using iterative constructions: 0.0 sec\n"
     ]
    }
   ],
   "source": [
    "# Exercise 8. An array is entered from the keyboard. Count the number of zero and\n",
    "a = int(input(\"enter number of elements\\n\"))\n",
    "arr = np.array(list(map(int, input(\"Enter the array: \").split())))\n",
    "start_time = time.time()\n",
    "num_zero = np.count_nonzero(arr == 0)\n",
    "\n",
    "num_nonzero = np.count_nonzero(arr != 0)\n",
    "\n",
    "print(\"Zeros:\", num_zero)\n",
    "print(\"Non-zeros:\", num_nonzero)\n",
    "end_time = time.time()\n",
    "print(\"Read_Time_taken_using numpy: \" + str(end_time - start_time)+\" sec\")\n",
    "print(\"\\n\")\n",
    "# using using iterative constructions (using loops, list comprehensions, etc.).\n",
    "\n",
    "arr1 = np.array(list(map(int, input(\"Enter the array: \").split())))\n",
    "x, y = 0, 0\n",
    "start_time = time.time()\n",
    "for i in range(a):\n",
    "    if arr1[i] == 0:\n",
    "        x += 1\n",
    "    else:\n",
    "        y +=1\n",
    "        \n",
    "print(\"Zeros:\", x)\n",
    "print(\"Non-zeros:\", y)\n",
    "end_time = time.time()\n",
    "print(\"Read_Time_taken_using iterative constructions: \" + str(end_time - start_time)+\" sec\")"
   ]
  },
  {
   "cell_type": "code",
   "execution_count": 1,
   "id": "bf476874",
   "metadata": {},
   "outputs": [],
   "source": [
    "# Exercise 12. Create an array of 1 of size nхn and create an inside \"border\" formed\n",
    "# from 0."
   ]
  },
  {
   "cell_type": "code",
   "execution_count": 20,
   "id": "416a403d",
   "metadata": {},
   "outputs": [
    {
     "name": "stdout",
     "output_type": "stream",
     "text": [
      "Enter the size of the array: 4\n",
      "Read_Time_taken_using numpy: 0.0 sec\n",
      "[[0 0 0 0]\n",
      " [0 1 1 0]\n",
      " [0 1 1 0]\n",
      " [0 0 0 0]]\n",
      "\n",
      "\n",
      "Read_Time_taken_using iterative constructions: 0.0010197162628173828 sec\n",
      "[[0 0 0 0]\n",
      " [0 1 1 0]\n",
      " [0 1 1 0]\n",
      " [0 0 0 0]]\n"
     ]
    }
   ],
   "source": [
    "# using numpy universal functions\n",
    "n = int(input(\"Enter the size of the array: \"))\n",
    "arr = np.zeros((n, n), dtype=int)\n",
    "start_time = time.time()\n",
    "arr[1:-1, 1:-1] = 1\n",
    "end_time = time.time()\n",
    "print(\"Read_Time_taken_using numpy: \" + str(end_time - start_time)+\" sec\")\n",
    "print(arr)\n",
    "print(\"\\n\")\n",
    "# using using iterative constructions (using loops, list comprehensions, etc.).\n",
    "arr1 = np.zeros((n, n), dtype=int)\n",
    "start_time = time.time()\n",
    "for i in range(1, n-1):\n",
    "    for j in range(1, n-1):\n",
    "        arr1[i][j] = 1\n",
    "end_time = time.time()\n",
    "print(\"Read_Time_taken_using iterative constructions: \" + str(end_time - start_time)+\" sec\")\n",
    "print(arr1)"
   ]
  },
  {
   "cell_type": "code",
   "execution_count": 6,
   "id": "a8da5c09",
   "metadata": {},
   "outputs": [],
   "source": [
    "# Exercise 15. Fill the even columns of the matrix of nхn size with 1, and the odd\n",
    "# ones with 0"
   ]
  },
  {
   "cell_type": "code",
   "execution_count": 29,
   "id": "2239970a",
   "metadata": {},
   "outputs": [
    {
     "name": "stdout",
     "output_type": "stream",
     "text": [
      "Enter the size of the array: 4\n",
      "Read_Time_taken_using numpy: 0.0 sec\n",
      "[[0. 1. 0. 1.]\n",
      " [0. 1. 0. 1.]\n",
      " [0. 1. 0. 1.]\n",
      " [0. 1. 0. 1.]]\n",
      "\n",
      "\n",
      "Read_Time_taken_using iterative constructions: 0.0 sec\n",
      "[[0. 1. 0. 1.]\n",
      " [0. 1. 0. 1.]\n",
      " [0. 1. 0. 1.]\n",
      " [0. 1. 0. 1.]]\n"
     ]
    }
   ],
   "source": [
    "# using numpy universal functions\n",
    "n = int(input(\"Enter the size of the array: \"))\n",
    "arr = np.ones((n,n))\n",
    "start_time = time.time()\n",
    "arr[: , ::2] = 0\n",
    "end_time = time.time()\n",
    "print(\"Read_Time_taken_using numpy: \" + str(end_time - start_time)+\" sec\")\n",
    "print(arr)\n",
    "print(\"\\n\")\n",
    "# using using iterative constructions (using loops, list comprehensions, etc.).\n",
    "arr1 = np.ones((n,n))\n",
    "start_time = time.time()\n",
    "for i in range(n):\n",
    "    for j in range(n):\n",
    "        if not j % 2 == 0:\n",
    "            arr1[i][j] = 1\n",
    "        else:\n",
    "            arr1[i][j] = 0\n",
    "\n",
    "end_time = time.time()\n",
    "print(\"Read_Time_taken_using iterative constructions: \" + str(end_time - start_time)+\" sec\")\n",
    "print(arr1)"
   ]
  },
  {
   "cell_type": "code",
   "execution_count": 24,
   "id": "cf25f079",
   "metadata": {},
   "outputs": [],
   "source": [
    "# Exercise 16. Fill the vector with values from 0 to n. Replace all values greater than\n",
    "# n/2 and less than 3n/4 with zeros."
   ]
  },
  {
   "cell_type": "code",
   "execution_count": 33,
   "id": "a0025714",
   "metadata": {},
   "outputs": [
    {
     "name": "stdout",
     "output_type": "stream",
     "text": [
      "Enter the size of the array: 10\n",
      "Read_Time_taken_using numpy: 0.0 sec\n",
      "[ 0  1  2  3  4  0  0  0  8  9 10]\n",
      "\n",
      "\n",
      "Read_Time_taken_using iterative constructions: 0.0 sec\n",
      "[ 0  1  2  3  4  0  0  0  8  9 10]\n"
     ]
    }
   ],
   "source": [
    "# using numpy universal functions\n",
    "n = int(input(\"Enter the size of the array: \"))\n",
    "start_time = time.time()\n",
    "arr = np.arange(n + 1)\n",
    "arr[(arr >= n / 2) & (arr < (3 * n) / 4)] = 0\n",
    "end_time = time.time()\n",
    "print(\"Read_Time_taken_using numpy: \" + str(end_time - start_time)+\" sec\")\n",
    "print(arr)\n",
    "print(\"\\n\")\n",
    "# using using iterative constructions (using loops, list comprehensions, etc.).\n",
    "arr1 = np.arange(n + 1)\n",
    "start_time = time.time()\n",
    "for i in range(n):\n",
    "    if arr1[i] >= n / 2 and arr1[i] < 3 * n / 4:\n",
    "        arr1[i] = 0\n",
    "\n",
    "end_time = time.time()\n",
    "print(\"Read_Time_taken_using iterative constructions: \" + str(end_time - start_time)+\" sec\")\n",
    "print(arr1)"
   ]
  },
  {
   "cell_type": "code",
   "execution_count": 10,
   "id": "732876ef",
   "metadata": {},
   "outputs": [],
   "source": [
    "# Exercise 20. Generate a vector of n random elements, lying in the interval (0,1).\n",
    "# Replace the maximum element with 0. "
   ]
  },
  {
   "cell_type": "code",
   "execution_count": 40,
   "id": "e3cacb4f",
   "metadata": {},
   "outputs": [
    {
     "name": "stdout",
     "output_type": "stream",
     "text": [
      "Enter the size of the array: 5\n",
      "the array before [0.69411427 0.44883957 0.50923974 0.37359561 0.60132491]\n",
      "the array after [0.         0.44883957 0.50923974 0.37359561 0.60132491]\n",
      "Read_Time_taken_using numpy: 0.0 sec\n",
      "\n",
      "\n",
      "the array before [0.37206683 0.4033589  0.7029644  0.59619528 0.83293565]\n",
      "the array after [0.37206683 0.4033589  0.7029644  0.59619528 0.        ]\n",
      "Read_Time_taken_using iterative constructions: 0.0 sec\n"
     ]
    }
   ],
   "source": [
    "# using numpy universal functions\n",
    "n = int(input(\"Enter the size of the array: \"))\n",
    "start_time = time.time()\n",
    "arr = np.random.rand(n)\n",
    "max_val = np.argmax(arr)\n",
    "print(f\"the array before {arr}\")\n",
    "arr[max_val] = 0\n",
    "print(f\"the array after {arr}\")\n",
    "end_time = time.time()\n",
    "print(\"Read_Time_taken_using numpy: \" + str(end_time - start_time)+\" sec\")\n",
    "print(\"\\n\")\n",
    "\n",
    "# using using iterative constructions (using loops, list comprehensions, etc.).\n",
    "start_time = time.time()\n",
    "arr1 = np.random.rand(n)\n",
    "print(f\"the array before {arr1}\")\n",
    "max_index = 0\n",
    "max_val1 = 0\n",
    "for i in range(n):\n",
    "    if arr1[i] > max_val1:\n",
    "        max_val1 = arr1[i]\n",
    "        max_index = i\n",
    "arr1[max_index] = 0\n",
    "print(f\"the array after {arr1}\")\n",
    "end_time = time.time()\n",
    "print(\"Read_Time_taken_using iterative constructions: \" + str(end_time - start_time)+\" sec\")"
   ]
  },
  {
   "cell_type": "code",
   "execution_count": 38,
   "id": "d50bd6fd",
   "metadata": {},
   "outputs": [],
   "source": [
    "# 2. Solve the system of linear equations using Cramer's formulas and check the \n",
    "# result using:\n",
    "# a) matrix multiplication;\n",
    "# b) inverse matrix;\n",
    "# c) numpy.linalg.solve().\n",
    "# Compare the results using numpy.allclose()."
   ]
  },
  {
   "cell_type": "code",
   "execution_count": 22,
   "id": "8ecc7c12",
   "metadata": {},
   "outputs": [
    {
     "name": "stdout",
     "output_type": "stream",
     "text": [
      "The result compared to the result of using matrix multiplication is True\n",
      "\n",
      "The result compared to the result of using inverse matrix is True\n",
      "\n",
      "The result compared to the result of using numpy.linalg.solve() is True\n",
      "\n"
     ]
    }
   ],
   "source": [
    "a = np.array([[1, 2, 1, 1], \n",
    "              [2, 1, 1, 1], \n",
    "              [1, -1, 2, 1], \n",
    "              [1, 1, -1, 3]])\n",
    "\n",
    "b = np.array([8, 5, -1, 10])\n",
    "# Solving the equation using cramer rule\n",
    "detA = np.linalg.det(a)\n",
    "\n",
    "mat1 = copy.deepcopy(a)\n",
    "mat1[:, 0] = b\n",
    "\n",
    "mat2 = copy.deepcopy(a)\n",
    "mat2[:, 1] = b\n",
    "\n",
    "mat3 = copy.deepcopy(a)\n",
    "mat3[:, 2] = b\n",
    "\n",
    "mat4 = copy.deepcopy(a)\n",
    "mat4[:, 3] = b\n",
    "\n",
    "detX1 = np.linalg.det(mat1)\n",
    "detX2 = np.linalg.det(mat2)\n",
    "detX3 = np.linalg.det(mat3)\n",
    "detX4 = np.linalg.det(mat4)\n",
    "\n",
    "x1 = detX1 / detA\n",
    "x2 = detX2 / detA\n",
    "x3 = detX3 / detA\n",
    "x4 = detX4 / detA\n",
    "#  RESULT\n",
    "x = np.array([x1, x2, x3, x4])\n",
    "\n",
    "# a) matrix multiplication;\n",
    "result = np.dot(a, x)\n",
    "print(f\"The result compared to the result of using matrix multiplication is {np.allclose(result, b)}\\n\")\n",
    "\n",
    "# b) inverse matrix\n",
    "inv_matrix = np.linalg.inv(a)\n",
    "result1 = np.dot(inv_matrix, b)\n",
    "print(f\"The result compared to the result of using inverse matrix is {np.allclose(result1, x)}\\n\")\n",
    "# c) numpy.linalg.solve().\n",
    "result2 = np.linalg.solve(a, b)\n",
    "print(f\"The result compared to the result of using numpy.linalg.solve() is {np.allclose(result2, x)}\\n\")\n"
   ]
  },
  {
   "cell_type": "code",
   "execution_count": 2,
   "id": "07d33e88",
   "metadata": {},
   "outputs": [],
   "source": [
    "# 3. Calculate the value of the matrix expression\n",
    "# a) using the universal functions of the NumPy library.\n",
    "# b) using iterative constructions (using loops, list comprehensions, etc.).\n",
    "# c) for both cases, calculate the execution time of the script and compare the\n",
    "# values.\n",
    "# Compare the results using numpy.allclose()."
   ]
  },
  {
   "cell_type": "markdown",
   "id": "a8e3f24c",
   "metadata": {},
   "source": [
    "##### we use this formula for matrix multiplication\n",
    "\n",
    "$$\\mathbf {(AB)}_{ij} = \\sum_{k = 1}^n A_{ik} B_{kj}$$"
   ]
  },
  {
   "cell_type": "code",
   "execution_count": 7,
   "id": "b022faa9",
   "metadata": {},
   "outputs": [
    {
     "name": "stdout",
     "output_type": "stream",
     "text": [
      "[[ -94 -190  -36]\n",
      " [-106 -236   20]\n",
      " [ -20  -38  -28]]\n",
      "Read_Time_taken_using numpy: 0.0009999275207519531 sec\n",
      "[[ -94. -190.  -36.]\n",
      " [-106. -236.   20.]\n",
      " [ -20.  -38.  -28.]]\n",
      "Read_Time_taken_using iterative constructions: 0.003000974655151367 sec\n",
      "The Results comparison of using numpy and iterative constructions is True\n"
     ]
    }
   ],
   "source": [
    "# a) using the universal functions of the NumPy library.\n",
    "a = np.array([[1, 4, 2], [2, 1, -2], [0, 1, -1]])\n",
    "b = np.array([[4, 6, -2], [4, 10, 1], [2, 4, -5]])\n",
    "\n",
    "start_time = time.time()\n",
    "result = 2 * a - (a @ a + b) @ b\n",
    "end_time = time.time()\n",
    "print(result)\n",
    "print(\"Read_Time_taken_using numpy: \" + str(end_time - start_time) + \" sec\")\n",
    "\n",
    "# b) using iterative constructions (using loops, list comprehensions, etc.).\n",
    "c = np.array([[1, 4, 2], [2, 1, -2], [0, 1, -1]])\n",
    "d = np.array([[4, 6, -2], [4, 10, 1], [2, 4, -5]])\n",
    "\n",
    "start_time = time.time()\n",
    "\n",
    "doubleC = copy.deepcopy(c)\n",
    "for i in range(len(doubleC)):\n",
    "    for j in range(len(doubleC[i])):\n",
    "        doubleC[i][j] = doubleC[i][j] * 2\n",
    "\n",
    "powerC = np.zeros((3, 3))\n",
    "for i in range(len(powerC)):\n",
    "    for j in range(len(powerC[0])):\n",
    "        for k in range(len(powerC)):\n",
    "            powerC[i][j] += c[i][k] * c[k][j]\n",
    "\n",
    "powerCPlusD = np.zeros((3, 3))\n",
    "for i in range(len(powerC)):\n",
    "    for j in range(len(powerC[i])):\n",
    "        powerCPlusD[i][j] = powerC[i][j] + d[i][j]\n",
    "\n",
    "powerCPlusDTimesD = np.zeros((3, 3))\n",
    "\n",
    "for i in range(len(powerC)):\n",
    "    for j in range(len(powerC[0])):\n",
    "        for k in range(len(powerC)):\n",
    "            powerCPlusDTimesD[i][j] += powerCPlusD[i][k] * d[k][j]\n",
    "\n",
    "result2 = np.zeros((3, 3))\n",
    "for i in range(len(powerC)):\n",
    "    for j in range(len(powerC[i])):\n",
    "        result2[i][j] = doubleC[i][j] - powerCPlusDTimesD[i][j]\n",
    "\n",
    "end_time = time.time()\n",
    "print(result2)\n",
    "print(\"Read_Time_taken_using iterative constructions: \" + str(end_time - start_time) + \" sec\")\n",
    "print(f\"The Results comparison of using numpy and iterative constructions is {np.allclose(result, result2)}\")\n"
   ]
  }
 ],
 "metadata": {
  "kernelspec": {
   "display_name": "Python 3 (ipykernel)",
   "language": "python",
   "name": "python3"
  },
  "language_info": {
   "codemirror_mode": {
    "name": "ipython",
    "version": 3
   },
   "file_extension": ".py",
   "mimetype": "text/x-python",
   "name": "python",
   "nbconvert_exporter": "python",
   "pygments_lexer": "ipython3",
   "version": "3.11.3"
  }
 },
 "nbformat": 4,
 "nbformat_minor": 5
}
